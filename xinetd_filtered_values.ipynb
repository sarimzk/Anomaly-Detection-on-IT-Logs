{
 "cells": [
  {
   "cell_type": "code",
   "execution_count": 59,
   "metadata": {},
   "outputs": [],
   "source": [
    "import csv\n",
    "import os\n",
    "import numpy as np\n",
    "import pandas as pd\n",
    "import matplotlib.pyplot as plt\n",
    "import time\n",
    "import datetime as dt\n",
    "from matplotlib import style\n",
    "from sklearn import svm, metrics\n",
    "from sklearn.svm import SVC\n",
    "from sklearn.model_selection import GridSearchCV\n",
    "import datetime\n",
    "import dateutil.parser\n",
    "from datetime import datetime\n",
    "from dateutil.parser import parse\n",
    "import datetime\n",
    "import dateutil.parser\n",
    "import re\n",
    "re.compile('<title>(.*)</title>')\n",
    "%matplotlib inline"
   ]
  },
  {
   "cell_type": "code",
   "execution_count": 60,
   "metadata": {},
   "outputs": [
    {
     "data": {
      "text/plain": [
       "'c:\\\\Users\\\\sarim\\\\Desktop\\\\Sem3\\\\Seminar'"
      ]
     },
     "execution_count": 60,
     "metadata": {},
     "output_type": "execute_result"
    }
   ],
   "source": [
    "path = \"c:/Users/sarim/Desktop/Sem3/Seminar\"\n",
    "os.chdir(path)\n",
    "os.getcwd()"
   ]
  },
  {
   "cell_type": "code",
   "execution_count": 61,
   "metadata": {},
   "outputs": [],
   "source": [
    "xinetd=pd.read_csv('xinetd.csv', na_filter=False)"
   ]
  },
  {
   "cell_type": "code",
   "execution_count": 62,
   "metadata": {},
   "outputs": [
    {
     "data": {
      "text/html": [
       "<div>\n",
       "<style scoped>\n",
       "    .dataframe tbody tr th:only-of-type {\n",
       "        vertical-align: middle;\n",
       "    }\n",
       "\n",
       "    .dataframe tbody tr th {\n",
       "        vertical-align: top;\n",
       "    }\n",
       "\n",
       "    .dataframe thead th {\n",
       "        text-align: right;\n",
       "    }\n",
       "</style>\n",
       "<table border=\"1\" class=\"dataframe\">\n",
       "  <thead>\n",
       "    <tr style=\"text-align: right;\">\n",
       "      <th></th>\n",
       "      <th>Unnamed: 0</th>\n",
       "      <th>Timestamp</th>\n",
       "      <th>MachineName</th>\n",
       "      <th>Daemon</th>\n",
       "      <th>LogText</th>\n",
       "    </tr>\n",
       "  </thead>\n",
       "  <tbody>\n",
       "    <tr>\n",
       "      <th>0</th>\n",
       "      <td>1</td>\n",
       "      <td>2013-03-10 00:00:53</td>\n",
       "      <td>206.76.192.5</td>\n",
       "      <td>xinetd</td>\n",
       "      <td>START: gsigatekeeper pid=1563 from=129.111.140...</td>\n",
       "    </tr>\n",
       "    <tr>\n",
       "      <th>1</th>\n",
       "      <td>2</td>\n",
       "      <td>2013-03-10 00:00:53</td>\n",
       "      <td>206.76.192.5</td>\n",
       "      <td>xinetd</td>\n",
       "      <td>EXIT: gsigatekeeper status=1 pid=1563 duration...</td>\n",
       "    </tr>\n",
       "    <tr>\n",
       "      <th>2</th>\n",
       "      <td>3</td>\n",
       "      <td>2013-03-10 00:00:56</td>\n",
       "      <td>206.76.192.5</td>\n",
       "      <td>xinetd</td>\n",
       "      <td>START: gsigatekeeper pid=1564 from=129.111.140...</td>\n",
       "    </tr>\n",
       "    <tr>\n",
       "      <th>3</th>\n",
       "      <td>4</td>\n",
       "      <td>2013-03-10 00:00:56</td>\n",
       "      <td>206.76.192.5</td>\n",
       "      <td>xinetd</td>\n",
       "      <td>EXIT: gsigatekeeper status=1 pid=1564 duration...</td>\n",
       "    </tr>\n",
       "    <tr>\n",
       "      <th>4</th>\n",
       "      <td>5</td>\n",
       "      <td>2013-03-10 00:01:54</td>\n",
       "      <td>206.76.192.5</td>\n",
       "      <td>xinetd</td>\n",
       "      <td>START: gsigatekeeper pid=1858 from=129.111.140...</td>\n",
       "    </tr>\n",
       "  </tbody>\n",
       "</table>\n",
       "</div>"
      ],
      "text/plain": [
       "   Unnamed: 0            Timestamp   MachineName  Daemon  \\\n",
       "0           1  2013-03-10 00:00:53  206.76.192.5  xinetd   \n",
       "1           2  2013-03-10 00:00:53  206.76.192.5  xinetd   \n",
       "2           3  2013-03-10 00:00:56  206.76.192.5  xinetd   \n",
       "3           4  2013-03-10 00:00:56  206.76.192.5  xinetd   \n",
       "4           5  2013-03-10 00:01:54  206.76.192.5  xinetd   \n",
       "\n",
       "                                             LogText  \n",
       "0  START: gsigatekeeper pid=1563 from=129.111.140...  \n",
       "1  EXIT: gsigatekeeper status=1 pid=1563 duration...  \n",
       "2  START: gsigatekeeper pid=1564 from=129.111.140...  \n",
       "3  EXIT: gsigatekeeper status=1 pid=1564 duration...  \n",
       "4  START: gsigatekeeper pid=1858 from=129.111.140...  "
      ]
     },
     "execution_count": 62,
     "metadata": {},
     "output_type": "execute_result"
    }
   ],
   "source": [
    "xinetd.head()"
   ]
  },
  {
   "cell_type": "code",
   "execution_count": 63,
   "metadata": {},
   "outputs": [
    {
     "name": "stdout",
     "output_type": "stream",
     "text": [
      "START: gsigatekeeper pid=1563 from=129.111.140.159\n",
      "EXIT: gsigatekeeper status=1 pid=1563 duration=0(sec)\n",
      "START: gsigatekeeper pid=1564 from=129.111.140.167\n",
      "EXIT: gsigatekeeper status=1 pid=1564 duration=0(sec)\n",
      "START: gsigatekeeper pid=1858 from=129.111.140.159\n",
      "EXIT: gsigatekeeper status=1 pid=1858 duration=0(sec)\n",
      "START: gsigatekeeper pid=1859 from=129.111.140.167\n",
      "EXIT: gsigatekeeper status=1 pid=1859 duration=0(sec)\n",
      "START: gsigatekeeper pid=2114 from=149.165.228.180\n",
      "EXIT: gsigatekeeper status=1 pid=2114 duration=0(sec)\n",
      "START: gsigatekeeper pid=2118 from=129.111.140.159\n",
      "EXIT: gsigatekeeper status=1 pid=2118 duration=0(sec)\n",
      "START: gsigatekeeper pid=2119 from=129.111.140.167\n",
      "EXIT: gsigatekeeper status=1 pid=2119 duration=0(sec)\n",
      "START: gsigatekeeper pid=2120 from=129.111.140.159\n",
      "EXIT: gsigatekeeper status=1 pid=2120 duration=0(sec)\n",
      "START: gsigatekeeper pid=2121 from=129.111.140.167\n",
      "EXIT: gsigatekeeper status=1 pid=2121 duration=0(sec)\n",
      "START: gsigatekeeper pid=2390 from=129.111.140.159\n",
      "EXIT: gsigatekeeper status=1 pid=2390 duration=0(sec)\n",
      "START: gsigatekeeper pid=2391 from=129.111.140.167\n",
      "EXIT: gsigatekeeper status=1 pid=2391 duration=0(sec)\n",
      "START: gsigatekeeper pid=2403 from=129.111.140.159\n",
      "EXIT: gsigatekeeper status=1 pid=2403 duration=0(sec)\n",
      "START: gsigatekeeper pid=2404 from=129.111.140.167\n",
      "EXIT: gsigatekeeper status=1 pid=2404 duration=0(sec)\n",
      "START: gsiftp pid=3016 from=149.165.228.180\n",
      "EXIT: gsiftp status=0 pid=3016 duration=5(sec)\n",
      "START: gsigatekeeper pid=3025 from=129.111.140.159\n",
      "EXIT: gsigatekeeper status=1 pid=3025 duration=0(sec)\n",
      "START: gsigatekeeper pid=3026 from=129.111.140.167\n",
      "EXIT: gsigatekeeper status=1 pid=3026 duration=0(sec)\n",
      "START: gsiftp pid=3027 from=129.114.53.21\n",
      "EXIT: gsiftp status=0 pid=3027 duration=0(sec)\n",
      "START: gsigatekeeper pid=3047 from=129.111.140.159\n",
      "EXIT: gsigatekeeper status=1 pid=3047 duration=0(sec)\n",
      "START: gsigatekeeper pid=3048 from=129.111.140.167\n",
      "EXIT: gsigatekeeper status=1 pid=3048 duration=0(sec)\n",
      "START: gsigatekeeper pid=3303 from=129.111.140.159\n",
      "EXIT: gsigatekeeper status=1 pid=3303 duration=0(sec)\n",
      "START: gsigatekeeper pid=3304 from=129.111.140.167\n",
      "EXIT: gsigatekeeper status=1 pid=3304 duration=0(sec)\n",
      "START: gsigatekeeper pid=3305 from=129.111.140.159\n",
      "EXIT: gsigatekeeper status=1 pid=3305 duration=0(sec)\n",
      "START: gsigatekeeper pid=3306 from=129.111.140.167\n",
      "EXIT: gsigatekeeper status=1 pid=3306 duration=0(sec)\n",
      "START: gsigatekeeper pid=3572 from=129.111.140.159\n",
      "EXIT: gsigatekeeper status=1 pid=3572 duration=0(sec)\n",
      "START: gsigatekeeper pid=3573 from=129.111.140.167\n",
      "EXIT: gsigatekeeper status=1 pid=3573 duration=0(sec)\n",
      "START: gsigatekeeper pid=3862 from=129.111.140.159\n",
      "EXIT: gsigatekeeper status=1 pid=3862 duration=0(sec)\n",
      "START: gsigatekeeper pid=3863 from=129.111.140.167\n",
      "EXIT: gsigatekeeper status=1 pid=3863 duration=0(sec)\n",
      "START: gsigatekeeper pid=4474 from=149.165.228.180\n",
      "EXIT: gsigatekeeper status=1 pid=4474 duration=1(sec)\n",
      "START: gsigatekeeper pid=4550 from=129.111.140.159\n",
      "EXIT: gsigatekeeper status=1 pid=4550 duration=0(sec)\n",
      "START: gsigatekeeper pid=4551 from=129.111.140.167\n",
      "EXIT: gsigatekeeper status=1 pid=4551 duration=0(sec)\n",
      "START: gsigatekeeper pid=4552 from=129.111.140.159\n",
      "EXIT: gsigatekeeper status=1 pid=4552 duration=0(sec)\n",
      "START: gsigatekeeper pid=4553 from=129.111.140.167\n",
      "EXIT: gsigatekeeper status=1 pid=4553 duration=0(sec)\n",
      "START: gsigatekeeper pid=4811 from=129.111.140.159\n",
      "EXIT: gsigatekeeper status=1 pid=4811 duration=0(sec)\n",
      "START: gsigatekeeper pid=4812 from=129.111.140.167\n",
      "EXIT: gsigatekeeper status=1 pid=4812 duration=0(sec)\n",
      "START: gsigatekeeper pid=4991 from=129.111.140.159\n",
      "EXIT: gsigatekeeper status=1 pid=4991 duration=0(sec)\n",
      "START: gsigatekeeper pid=4992 from=129.111.140.167\n",
      "EXIT: gsigatekeeper status=1 pid=4992 duration=0(sec)\n",
      "START: gsiftp pid=5247 from=149.165.228.180\n",
      "EXIT: gsiftp status=0 pid=5247 duration=5(sec)\n",
      "START: gsigatekeeper pid=5256 from=129.111.140.159\n",
      "EXIT: gsigatekeeper status=1 pid=5256 duration=0(sec)\n",
      "START: gsigatekeeper pid=5257 from=129.111.140.167\n",
      "EXIT: gsigatekeeper status=1 pid=5257 duration=0(sec)\n",
      "START: gsigatekeeper pid=5552 from=129.111.140.159\n",
      "EXIT: gsigatekeeper status=1 pid=5552 duration=0(sec)\n",
      "START: gsigatekeeper pid=5553 from=129.111.140.167\n",
      "EXIT: gsigatekeeper status=1 pid=5553 duration=0(sec)\n",
      "START: gsigatekeeper pid=5842 from=129.111.140.159\n",
      "EXIT: gsigatekeeper status=1 pid=5842 duration=0(sec)\n",
      "START: gsigatekeeper pid=5843 from=129.111.140.167\n",
      "EXIT: gsigatekeeper status=1 pid=5843 duration=0(sec)\n",
      "START: gsigatekeeper pid=5844 from=129.111.140.159\n",
      "EXIT: gsigatekeeper status=1 pid=5844 duration=0(sec)\n",
      "START: gsigatekeeper pid=5845 from=129.111.140.167\n",
      "EXIT: gsigatekeeper status=1 pid=5845 duration=0(sec)\n",
      "START: gsigatekeeper pid=6119 from=129.111.140.159\n",
      "EXIT: gsigatekeeper status=1 pid=6119 duration=0(sec)\n",
      "START: gsigatekeeper pid=6120 from=129.111.140.167\n",
      "EXIT: gsigatekeeper status=1 pid=6120 duration=0(sec)\n",
      "START: gsigatekeeper pid=6417 from=129.111.140.159\n",
      "EXIT: gsigatekeeper status=1 pid=6417 duration=0(sec)\n",
      "START: gsigatekeeper pid=6418 from=129.111.140.167\n",
      "EXIT: gsigatekeeper status=1 pid=6418 duration=0(sec)\n",
      "START: gsigatekeeper pid=6673 from=149.165.228.180\n",
      "EXIT: gsigatekeeper status=1 pid=6673 duration=1(sec)\n"
     ]
    }
   ],
   "source": [
    "for i in range(100):\n",
    "    print(dfdhc.iloc[i,4])"
   ]
  },
  {
   "cell_type": "code",
   "execution_count": 64,
   "metadata": {},
   "outputs": [],
   "source": [
    "freq = pd.Series(' '.join(xinetd['LogText']).split()).value_counts()[:]"
   ]
  },
  {
   "cell_type": "code",
   "execution_count": 9,
   "metadata": {},
   "outputs": [
    {
     "data": {
      "text/plain": [
       "gsigatekeeper           172393\n",
       "START:                  143207\n",
       "EXIT:                   143174\n",
       "gsiftp                  108915\n",
       "duration=0(sec)          87680\n",
       "status=1                 86134\n",
       "status=0                 56242\n",
       "from=129.111.140.167     52402\n",
       "from=174.129.226.69      38155\n",
       "from=129.111.140.159     27233\n",
       "duration=1(sec)          13205\n",
       "from=149.165.228.180     12935\n",
       "duration=2(sec)          10687\n",
       "duration=5(sec)           6514\n",
       "from=128.182.112.239      5570\n",
       "duration=3(sec)           4583\n",
       "gsiftp2                   2964\n",
       "duration=4(sec)           2823\n",
       "from=156.56.104.85        1698\n",
       "duration=28(sec)          1563\n",
       "duration=29(sec)          1336\n",
       "duration=27(sec)          1285\n",
       "gsigatekeeper2            1232\n",
       "from=64.39.103.57         1223\n",
       "duration=30(sec)          1067\n",
       "from=129.114.53.21         870\n",
       "duration=26(sec)           831\n",
       "gsigatekeeper3             787\n",
       "duration=31(sec)           779\n",
       "status=6                   765\n",
       "                         ...  \n",
       "duration=1885(sec)           1\n",
       "duration=2497(sec)           1\n",
       "duration=590(sec)            1\n",
       "duration=1274(sec)           1\n",
       "duration=1097(sec)           1\n",
       "duration=9168(sec)           1\n",
       "duration=1034(sec)           1\n",
       "duration=1209(sec)           1\n",
       "duration=3461(sec)           1\n",
       "duration=3193(sec)           1\n",
       "duration=263(sec)            1\n",
       "duration=1590(sec)           1\n",
       "duration=595(sec)            1\n",
       "duration=16713(sec)          1\n",
       "duration=2071(sec)           1\n",
       "from=129.114.53.25           1\n",
       "duration=419(sec)            1\n",
       "duration=2237(sec)           1\n",
       "duration=1813(sec)           1\n",
       "duration=205991(sec)         1\n",
       "duration=1887(sec)           1\n",
       "duration=10047(sec)          1\n",
       "duration=7877(sec)           1\n",
       "duration=547(sec)            1\n",
       "duration=456(sec)            1\n",
       "duration=68731(sec)          1\n",
       "duration=1687(sec)           1\n",
       "duration=423(sec)            1\n",
       "duration=679(sec)            1\n",
       "duration=1298(sec)           1\n",
       "Length: 32613, dtype: int64"
      ]
     },
     "execution_count": 9,
     "metadata": {},
     "output_type": "execute_result"
    }
   ],
   "source": [
    "freq"
   ]
  },
  {
   "cell_type": "code",
   "execution_count": 65,
   "metadata": {},
   "outputs": [
    {
     "name": "stdout",
     "output_type": "stream",
     "text": [
      "295 ms ± 7.65 ms per loop (mean ± std. dev. of 7 runs, 1 loop each)\n",
      "487 ms ± 25 ms per loop (mean ± std. dev. of 7 runs, 1 loop each)\n"
     ]
    }
   ],
   "source": [
    "%timeit xinetd['LogText'].str.contains('^[A-Za-z]*', regex=True)\n",
    "%timeit xinetd['position']= xinetd['LogText'].str.extract('(^[A-Za-z]*)', expand=True)"
   ]
  },
  {
   "cell_type": "code",
   "execution_count": 66,
   "metadata": {},
   "outputs": [
    {
     "data": {
      "text/plain": [
       "0    START\n",
       "1     EXIT\n",
       "2    START\n",
       "3     EXIT\n",
       "4    START\n",
       "Name: position, dtype: object"
      ]
     },
     "execution_count": 66,
     "metadata": {},
     "output_type": "execute_result"
    }
   ],
   "source": [
    "xinetd['position'].head()"
   ]
  },
  {
   "cell_type": "code",
   "execution_count": 67,
   "metadata": {},
   "outputs": [
    {
     "name": "stdout",
     "output_type": "stream",
     "text": [
      "297 ms ± 4.04 ms per loop (mean ± std. dev. of 7 runs, 1 loop each)\n",
      "505 ms ± 25.4 ms per loop (mean ± std. dev. of 7 runs, 1 loop each)\n"
     ]
    }
   ],
   "source": [
    "# gsi[a-z]*\n",
    "%timeit xinetd['LogText'].str.contains('gsi[a-z]*', regex=True)\n",
    "%timeit xinetd['gsi']= xinetd['LogText'].str.extract('(gsi[a-z]*)', expand=True)"
   ]
  },
  {
   "cell_type": "code",
   "execution_count": 68,
   "metadata": {},
   "outputs": [
    {
     "data": {
      "text/plain": [
       "gsigatekeeper    174412\n",
       "gsiftp           111879\n",
       "Name: gsi, dtype: int64"
      ]
     },
     "execution_count": 68,
     "metadata": {},
     "output_type": "execute_result"
    }
   ],
   "source": [
    "# xinetd['gsi'].head()\n",
    "xinetd['gsi'].value_counts()\n"
   ]
  },
  {
   "cell_type": "code",
   "execution_count": 69,
   "metadata": {
    "scrolled": true
   },
   "outputs": [
    {
     "name": "stdout",
     "output_type": "stream",
     "text": [
      "485 ms ± 10.5 ms per loop (mean ± std. dev. of 7 runs, 1 loop each)\n",
      "611 ms ± 22.5 ms per loop (mean ± std. dev. of 7 runs, 1 loop each)\n"
     ]
    }
   ],
   "source": [
    "%timeit xinetd['LogText'].str.contains('(?<=status=)\\d', regex=True)\n",
    "%timeit xinetd['status']= xinetd['LogText'].str.extract('((?<=status=)\\d)', expand=True)"
   ]
  },
  {
   "cell_type": "code",
   "execution_count": 70,
   "metadata": {},
   "outputs": [
    {
     "data": {
      "text/plain": [
       "0    NaN\n",
       "1      1\n",
       "2    NaN\n",
       "3      1\n",
       "4    NaN\n",
       "Name: status, dtype: object"
      ]
     },
     "execution_count": 70,
     "metadata": {},
     "output_type": "execute_result"
    }
   ],
   "source": [
    "xinetd['status'].head()\n"
   ]
  },
  {
   "cell_type": "code",
   "execution_count": 71,
   "metadata": {},
   "outputs": [
    {
     "name": "stdout",
     "output_type": "stream",
     "text": [
      "467 ms ± 9.04 ms per loop (mean ± std. dev. of 7 runs, 1 loop each)\n",
      "705 ms ± 10.8 ms per loop (mean ± std. dev. of 7 runs, 1 loop each)\n"
     ]
    }
   ],
   "source": [
    "%timeit xinetd['LogText'].str.contains('(?<=pid=)[0-9]*', regex=True)\n",
    "%timeit xinetd['pid']= xinetd['LogText'].str.extract('((?<=pid=)[0-9]*)', expand=True)"
   ]
  },
  {
   "cell_type": "code",
   "execution_count": 72,
   "metadata": {},
   "outputs": [
    {
     "data": {
      "text/plain": [
       "0    1563\n",
       "1    1563\n",
       "2    1564\n",
       "3    1564\n",
       "4    1858\n",
       "Name: pid, dtype: object"
      ]
     },
     "execution_count": 72,
     "metadata": {},
     "output_type": "execute_result"
    }
   ],
   "source": [
    "xinetd['pid'].head()"
   ]
  },
  {
   "cell_type": "code",
   "execution_count": 73,
   "metadata": {},
   "outputs": [
    {
     "name": "stderr",
     "output_type": "stream",
     "text": [
      "C:\\Users\\sarim\\Anaconda3\\envs\\cse741\\lib\\site-packages\\ipykernel_launcher.py:1: UserWarning: This pattern has match groups. To actually get the groups, use str.extract.\n",
      "  \"\"\"Entry point for launching an IPython kernel.\n"
     ]
    },
    {
     "name": "stdout",
     "output_type": "stream",
     "text": [
      "364 ms ± 22.3 ms per loop (mean ± std. dev. of 7 runs, 1 loop each)\n"
     ]
    }
   ],
   "source": [
    "# \\d{1,3}\\.\\d{1,3}\\.\\d{1,3}\\.\\d{1,3}\n",
    "%timeit xinetd['LogText'].str.contains('(?<=from=)\\d{1,3}\\.\\d{1,3}\\.\\d{1,3}\\.\\d{1,3}', regex=True)\n",
    "xinetd['IP']= xinetd['LogText'].str.extract('((?<=from=)\\d{1,3}\\.\\d{1,3}\\.\\d{1,3}\\.\\d{1,3})', expand=True)"
   ]
  },
  {
   "cell_type": "code",
   "execution_count": 74,
   "metadata": {},
   "outputs": [
    {
     "data": {
      "text/plain": [
       "0    129.111.140.159\n",
       "1                NaN\n",
       "2    129.111.140.167\n",
       "3                NaN\n",
       "4    129.111.140.159\n",
       "Name: IP, dtype: object"
      ]
     },
     "execution_count": 74,
     "metadata": {},
     "output_type": "execute_result"
    }
   ],
   "source": [
    "xinetd['IP'].head()\n"
   ]
  },
  {
   "cell_type": "code",
   "execution_count": 75,
   "metadata": {},
   "outputs": [
    {
     "name": "stdout",
     "output_type": "stream",
     "text": [
      "526 ms ± 41.5 ms per loop (mean ± std. dev. of 7 runs, 1 loop each)\n"
     ]
    }
   ],
   "source": [
    "%timeit xinetd['LogText'].str.contains('(?<=duration=)\\d[\\S]*', regex=True)\n",
    "xinetd['duration']= xinetd['LogText'].str.extract('((?<=duration=)\\d[\\S]*)', expand=True)"
   ]
  },
  {
   "cell_type": "code",
   "execution_count": 56,
   "metadata": {},
   "outputs": [
    {
     "data": {
      "text/plain": [
       "0       NaN\n",
       "1    0(sec)\n",
       "2       NaN\n",
       "3    0(sec)\n",
       "4       NaN\n",
       "Name: duration, dtype: object"
      ]
     },
     "execution_count": 56,
     "metadata": {},
     "output_type": "execute_result"
    }
   ],
   "source": [
    "xinetd['duration'].head()\n"
   ]
  },
  {
   "cell_type": "code",
   "execution_count": 57,
   "metadata": {},
   "outputs": [
    {
     "data": {
      "text/html": [
       "<div>\n",
       "<style scoped>\n",
       "    .dataframe tbody tr th:only-of-type {\n",
       "        vertical-align: middle;\n",
       "    }\n",
       "\n",
       "    .dataframe tbody tr th {\n",
       "        vertical-align: top;\n",
       "    }\n",
       "\n",
       "    .dataframe thead th {\n",
       "        text-align: right;\n",
       "    }\n",
       "</style>\n",
       "<table border=\"1\" class=\"dataframe\">\n",
       "  <thead>\n",
       "    <tr style=\"text-align: right;\">\n",
       "      <th></th>\n",
       "      <th>Unnamed: 0</th>\n",
       "      <th>Timestamp</th>\n",
       "      <th>MachineName</th>\n",
       "      <th>Daemon</th>\n",
       "      <th>LogText</th>\n",
       "      <th>dhcpkeywrd</th>\n",
       "      <th>position</th>\n",
       "      <th>gsi</th>\n",
       "      <th>pid</th>\n",
       "      <th>IP</th>\n",
       "      <th>status</th>\n",
       "      <th>duration</th>\n",
       "    </tr>\n",
       "  </thead>\n",
       "  <tbody>\n",
       "    <tr>\n",
       "      <th>0</th>\n",
       "      <td>1</td>\n",
       "      <td>2013-03-10 00:00:53</td>\n",
       "      <td>206.76.192.5</td>\n",
       "      <td>xinetd</td>\n",
       "      <td>START: gsigatekeeper pid=1563 from=129.111.140...</td>\n",
       "      <td>START</td>\n",
       "      <td>START</td>\n",
       "      <td>gsigatekeeper</td>\n",
       "      <td>1563</td>\n",
       "      <td>129.111.140.159</td>\n",
       "      <td>NaN</td>\n",
       "      <td>NaN</td>\n",
       "    </tr>\n",
       "    <tr>\n",
       "      <th>1</th>\n",
       "      <td>2</td>\n",
       "      <td>2013-03-10 00:00:53</td>\n",
       "      <td>206.76.192.5</td>\n",
       "      <td>xinetd</td>\n",
       "      <td>EXIT: gsigatekeeper status=1 pid=1563 duration...</td>\n",
       "      <td>EXIT</td>\n",
       "      <td>EXIT</td>\n",
       "      <td>gsigatekeeper</td>\n",
       "      <td>1563</td>\n",
       "      <td>NaN</td>\n",
       "      <td>1</td>\n",
       "      <td>0(sec)</td>\n",
       "    </tr>\n",
       "    <tr>\n",
       "      <th>2</th>\n",
       "      <td>3</td>\n",
       "      <td>2013-03-10 00:00:56</td>\n",
       "      <td>206.76.192.5</td>\n",
       "      <td>xinetd</td>\n",
       "      <td>START: gsigatekeeper pid=1564 from=129.111.140...</td>\n",
       "      <td>START</td>\n",
       "      <td>START</td>\n",
       "      <td>gsigatekeeper</td>\n",
       "      <td>1564</td>\n",
       "      <td>129.111.140.167</td>\n",
       "      <td>NaN</td>\n",
       "      <td>NaN</td>\n",
       "    </tr>\n",
       "    <tr>\n",
       "      <th>3</th>\n",
       "      <td>4</td>\n",
       "      <td>2013-03-10 00:00:56</td>\n",
       "      <td>206.76.192.5</td>\n",
       "      <td>xinetd</td>\n",
       "      <td>EXIT: gsigatekeeper status=1 pid=1564 duration...</td>\n",
       "      <td>EXIT</td>\n",
       "      <td>EXIT</td>\n",
       "      <td>gsigatekeeper</td>\n",
       "      <td>1564</td>\n",
       "      <td>NaN</td>\n",
       "      <td>1</td>\n",
       "      <td>0(sec)</td>\n",
       "    </tr>\n",
       "    <tr>\n",
       "      <th>4</th>\n",
       "      <td>5</td>\n",
       "      <td>2013-03-10 00:01:54</td>\n",
       "      <td>206.76.192.5</td>\n",
       "      <td>xinetd</td>\n",
       "      <td>START: gsigatekeeper pid=1858 from=129.111.140...</td>\n",
       "      <td>START</td>\n",
       "      <td>START</td>\n",
       "      <td>gsigatekeeper</td>\n",
       "      <td>1858</td>\n",
       "      <td>129.111.140.159</td>\n",
       "      <td>NaN</td>\n",
       "      <td>NaN</td>\n",
       "    </tr>\n",
       "  </tbody>\n",
       "</table>\n",
       "</div>"
      ],
      "text/plain": [
       "   Unnamed: 0            Timestamp   MachineName  Daemon  \\\n",
       "0           1  2013-03-10 00:00:53  206.76.192.5  xinetd   \n",
       "1           2  2013-03-10 00:00:53  206.76.192.5  xinetd   \n",
       "2           3  2013-03-10 00:00:56  206.76.192.5  xinetd   \n",
       "3           4  2013-03-10 00:00:56  206.76.192.5  xinetd   \n",
       "4           5  2013-03-10 00:01:54  206.76.192.5  xinetd   \n",
       "\n",
       "                                             LogText dhcpkeywrd position  \\\n",
       "0  START: gsigatekeeper pid=1563 from=129.111.140...      START    START   \n",
       "1  EXIT: gsigatekeeper status=1 pid=1563 duration...       EXIT     EXIT   \n",
       "2  START: gsigatekeeper pid=1564 from=129.111.140...      START    START   \n",
       "3  EXIT: gsigatekeeper status=1 pid=1564 duration...       EXIT     EXIT   \n",
       "4  START: gsigatekeeper pid=1858 from=129.111.140...      START    START   \n",
       "\n",
       "             gsi   pid               IP status duration  \n",
       "0  gsigatekeeper  1563  129.111.140.159    NaN      NaN  \n",
       "1  gsigatekeeper  1563              NaN      1   0(sec)  \n",
       "2  gsigatekeeper  1564  129.111.140.167    NaN      NaN  \n",
       "3  gsigatekeeper  1564              NaN      1   0(sec)  \n",
       "4  gsigatekeeper  1858  129.111.140.159    NaN      NaN  "
      ]
     },
     "execution_count": 57,
     "metadata": {},
     "output_type": "execute_result"
    }
   ],
   "source": [
    "xinetd.head()"
   ]
  },
  {
   "cell_type": "code",
   "execution_count": 58,
   "metadata": {},
   "outputs": [],
   "source": [
    "xinetd.to_pickle('xinetd_Keywords_filtered.pkl')"
   ]
  }
 ],
 "metadata": {
  "kernelspec": {
   "display_name": "Python 3",
   "language": "python",
   "name": "python3"
  },
  "language_info": {
   "codemirror_mode": {
    "name": "ipython",
    "version": 3
   },
   "file_extension": ".py",
   "mimetype": "text/x-python",
   "name": "python",
   "nbconvert_exporter": "python",
   "pygments_lexer": "ipython3",
   "version": "3.6.5"
  }
 },
 "nbformat": 4,
 "nbformat_minor": 2
}
